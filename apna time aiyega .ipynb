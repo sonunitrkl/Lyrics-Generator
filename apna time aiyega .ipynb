{
 "cells": [
  {
   "cell_type": "code",
   "execution_count": 75,
   "metadata": {},
   "outputs": [],
   "source": [
    "import numpy as np\n",
    "np.random.seed(11)"
   ]
  },
  {
   "cell_type": "code",
   "execution_count": 162,
   "metadata": {},
   "outputs": [],
   "source": [
    "def generate_freq_Table(data,k=4):\n",
    "    Table = {}          # here i table i am creating the nested dictionar , which contains the frequenc distribution\n",
    "    for i in range(len(data)-k):\n",
    "        X = data[i:i+k]\n",
    "        Y = data[i+k]\n",
    "        #print(\"X  %s and Y %s  \"%(X,Y))\n",
    "        \n",
    "        if Table.get(X) is None:\n",
    "            Table[X] = {}\n",
    "            Table[X][Y] = 1\n",
    "        else:\n",
    "            if Table[X].get(Y) is None:\n",
    "                Table[X][Y] = 1\n",
    "            else:\n",
    "                Table[X][Y] += 1\n",
    "    \n",
    "    return Table"
   ]
  },
  {
   "cell_type": "code",
   "execution_count": 163,
   "metadata": {},
   "outputs": [
    {
     "data": {
      "text/plain": [
       "{'hhye': {' ': 1},\n",
       " 'hye ': {'i': 1},\n",
       " 'ye i': {' ': 1},\n",
       " 'e i ': {'a': 1},\n",
       " ' i a': {'m': 1},\n",
       " 'i am': {' ': 1},\n",
       " ' am ': {'s': 1},\n",
       " 'am s': {'o': 1},\n",
       " 'm so': {'n': 1},\n",
       " ' son': {'u': 2},\n",
       " 'sonu': {'.': 1},\n",
       " 'onu.': {' ': 1},\n",
       " 'nu. ': {'t': 1},\n",
       " 'u. t': {'h': 1},\n",
       " '. th': {'i': 1},\n",
       " ' thi': {'s': 1},\n",
       " 'this': {' ': 1},\n",
       " 'his ': {'i': 1},\n",
       " 'is i': {'s': 1},\n",
       " 's is': {' ': 1},\n",
       " ' is ': {'t': 1},\n",
       " 'is t': {'h': 1},\n",
       " 's th': {'e': 1},\n",
       " ' the': {' ': 1},\n",
       " 'the ': {'s': 1},\n",
       " 'he s': {'o': 1},\n",
       " 'e so': {'n': 1}}"
      ]
     },
     "execution_count": 163,
     "metadata": {},
     "output_type": "execute_result"
    }
   ],
   "source": [
    "generate_freq_Table(\"hhye i am sonu. this is the sonu\")"
   ]
  },
  {
   "cell_type": "code",
   "execution_count": 148,
   "metadata": {},
   "outputs": [],
   "source": [
    "def convertFreqIntoProb(Table):     \n",
    "    for kx in Table.keys():\n",
    "        s = float(sum(Table[kx].values()))      #caclulating the sum of all frequency of next character\n",
    "        for k in Table[kx].keys():\n",
    "            Table[kx][k] = Table[kx][k]/s\n",
    "                \n",
    "    return Table"
   ]
  },
  {
   "cell_type": "code",
   "execution_count": 149,
   "metadata": {},
   "outputs": [],
   "source": [
    "text_path = \"Apna Time Aayega.txt\"\n",
    "def load_text(filename):\n",
    "    with open(filename,encoding='utf8') as f:\n",
    "        return f.read().lower()\n",
    "    \n",
    "text = load_text(text_path)"
   ]
  },
  {
   "cell_type": "code",
   "execution_count": 150,
   "metadata": {},
   "outputs": [
    {
     "data": {
      "text/plain": [
       "'apna time aayega\\nuth ja apni raakh se\\ntu udd ja ab talaash mein\\nparwaaz dekh parwane ki\\naasman bhi sar uthayega\\naayega apna time aayega\\nmere jaisa shaana lala\\ntujhe na mil payega\\n \\nyeh shabdon ka jwala\\nmeri bediyan pighlayega\\njitna toone boya hai tu\\nutna hi to khaayega\\naisa mera khwaab hai\\njo darr ko bhi satayega\\nzinda mera khwaab\\nab kaise tu dafnayega\\n \\nab hausle se jeene de\\nab khauf nahi hai seene mein\\nhar raaste ko cheerenge\\nhum kaamyabi chheenenge\\nsab kuchh mila paseene se\\nmatlab bana ab jeene mein\\n \\nkyon\\nkyon ki apna time aayega\\n \\ntu nanga hi to aaya hai\\nkya ghanta lekar jaayega\\napna time aayega\\napna time aayega\\napna time aayega x (2)\\n \\ntu nanga hi to aaya hai\\nkya ghanta lekar..\\n \\nkissi ka hath nahi tha sar par\\nyahaan par aaya khud ki mehnat se main\\njitni taakat kismat mein nahi\\nutni rehmat mein hai\\nphir bhi ladka sehmat nahin hai\\nkyon ki hairat nahi hai\\nzaroorat yahaan marzi ki\\naur jurrat ki hai\\n \\ntaakat ki hai, aafat ki\\nhimaakat ki, ibaadat ki\\nadalat yeh hai chahat ki\\nmohobbat ki, amaanat ki\\njeetne ki ab aadat ki hai\\nshohrat ki ab laalach nai hai\\ntere bhai jaisa koyi hard’ch nai hai\\n \\niss harkat ne hi barkat di hai\\nkyon?\\n \\ntu nanga hi to aaya hai\\nkya ghanta lekar jaayega\\napna time aayega\\napna time aayega\\napna time aayega\\n \\ntu nanga hi to aaya hai\\nkya ghanta lekar jaayega\\nkya tu ghanta lekar jaayega\\napna time aayega\\napna time aayega'"
      ]
     },
     "execution_count": 150,
     "metadata": {},
     "output_type": "execute_result"
    }
   ],
   "source": [
    "text"
   ]
  },
  {
   "cell_type": "code",
   "execution_count": 151,
   "metadata": {},
   "outputs": [],
   "source": [
    "def trainMarkovChain(text,k=4):\n",
    "    \n",
    "    Table = generateTable(text,k)\n",
    "    Table = convertFreqIntoProb(Table)\n",
    "    \n",
    "    return Table\n"
   ]
  },
  {
   "cell_type": "code",
   "execution_count": 152,
   "metadata": {},
   "outputs": [],
   "source": [
    "model = trainMarkovChain(text)"
   ]
  },
  {
   "cell_type": "code",
   "execution_count": 153,
   "metadata": {},
   "outputs": [],
   "source": [
    "def sample_next(context,Table,k):\n",
    "    context = context[-k:]\n",
    "    if Table.get(context) is None:    \n",
    "        return \" \"\n",
    "    possible_Chars = list(Table[context].keys())\n",
    "    possible_values = list(Table[context].values())\n",
    "    \n",
    "    #print(possible_Chars)\n",
    "    #print(possible_values)\n",
    "    \n",
    "    return np.random.choice(possible_Chars,p=possible_values)"
   ]
  },
  {
   "cell_type": "code",
   "execution_count": 154,
   "metadata": {},
   "outputs": [],
   "source": [
    "def generateText(starting_sent,k=4,maxLen=1000):\n",
    "    \n",
    "    sentence = starting_sent\n",
    "    context = starting_sent[-k:]\n",
    "    \n",
    "    for ix in range(maxLen):\n",
    "        next_prediction = sample_next(context,model,k)\n",
    "        sentence += next_prediction\n",
    "        context = sentence[-k:]\n",
    "    return sentence"
   ]
  },
  {
   "cell_type": "code",
   "execution_count": 155,
   "metadata": {},
   "outputs": [],
   "source": [
    "text = generateText(\"apna\",k=4,maxLen=2000)\n",
    "# print(text)"
   ]
  },
  {
   "cell_type": "code",
   "execution_count": 156,
   "metadata": {},
   "outputs": [],
   "source": [
    "sub = open(\"mySub.txt\",\"w\",encoding='utf8')\n",
    "sub.write(text) \n",
    "sub.close()"
   ]
  },
  {
   "cell_type": "code",
   "execution_count": 157,
   "metadata": {},
   "outputs": [
    {
     "data": {
      "text/plain": [
       "'apna time aayega\\nkya ghanta lekar jaayega\\njitni rehmat mein hai\\njo darr ko cheerenge\\nhum kaamyabi chheene de\\nab khauf nahi\\nutni raakh se\\nmatlab bana lala\\ntujhe na mil payega\\napna time aaya khud ki hai\\nkya ghanta lekar..\\n \\nkyon ki ab aadat ki hai\\nkyon?\\n \\ntu nanga hi barkat ki\\nhimaakat ki\\nadalat yahaan marzi ki\\nmohobbat kismat nahi hai\\nphir bhi satayega\\njitna hi to aayega\\napna time aaya hai seene mein\\nparwane ki\\naasman bhi sar par\\nyahaan pighlayega\\nuth ja apna time aaya hai\\nkyon ki apni rehmat mein\\n \\nkissi ka hai\\nkya ghanta lekar..\\n \\nkissi ka jwala\\ntujhe na mil payega\\n \\ntu nanga hi barkat ki hai\\nzaroorat ki hai\\nkya ghanta lekar..\\n \\nkissi ka hai\\ntere jaisa mera khwaab\\nab hai, amaanat ki\\nadalat yahaanat ki\\nhimaakat kismat mein hai\\nkyon?\\n \\ntu udd ja ab jeenenge\\nhum kaamyabi chahat ki hai\\nkya ghanta lekar jaayega\\nzinda mera khwaab hai\\nphir bhi sar uthayega x (2)\\n \\ntu nanga hi tha sar uthayega\\napna time aaya hai\\nkya ghanta lekar jaayega\\napna time aayega\\naayega apna time aayega\\napna time aayega\\n \\ntu nanga hi to aaya hath nahi hai chheenenge\\nhum kaamyabi chahat ki hai\\nkya ghanta lekar jaayega\\naisa shabdon ki hai\\nkya tu ghanta lekar jaayega\\napna time aayega\\n \\nab hai\\nkya ghanta lekar jaayega\\nkya ghanta lekar jaayega\\naayega\\njitni raakh se\\ntu nanga hi to aayega\\nmeri bediyan pighlayega\\naisa shabdon ki hai\\n \\ntu udd ja ab jeenenge\\nsab kuchh mila paseenenge\\nsab khauf nahi hai chheene mein\\nparwane ki ab jeene se\\ntu nanga hi barkat ne hi to aaya khwaab\\nab kaise tu dafnayega\\napna time aayega\\nkya tu ghanta lekar jaayega\\n \\nab kuchh mil payega\\nzinda mera khwaab\\nab kaise tu dafnayega\\naisa koyi hai\\nshohrat ki, amaana ab laalach nai hai\\nkya ghanta lekar jaayega\\n \\nab khauf nahi hard’ch nai hai\\nkya ghanta lekar..\\n \\nkissi ka jwala\\ntujhe na mil payega x (2)\\n \\ntaakat di hai seene mein nahi hai\\nkya ghanta lekar jaayega\\nmeri bediyan parwane ki\\naur jurrat ki, ibaadat ki ab talaash mein\\nhar raaste ko cheerenge\\nsab kuchh mila paseene de\\nab khaayega\\nkya tu ghanta lekar..\\n \\nkyon ki ab talaash mein hai\\nkyon\\n'"
      ]
     },
     "execution_count": 157,
     "metadata": {},
     "output_type": "execute_result"
    }
   ],
   "source": [
    "text"
   ]
  },
  {
   "cell_type": "code",
   "execution_count": 158,
   "metadata": {},
   "outputs": [],
   "source": [
    "np.random.seed(11)"
   ]
  },
  {
   "cell_type": "code",
   "execution_count": 159,
   "metadata": {},
   "outputs": [
    {
     "data": {
      "text/plain": [
       "array([0.18026969, 0.01947524, 0.46321853, 0.72493393, 0.4202036 ])"
      ]
     },
     "execution_count": 159,
     "metadata": {},
     "output_type": "execute_result"
    }
   ],
   "source": [
    "np.random.rand(5)"
   ]
  },
  {
   "cell_type": "code",
   "execution_count": 160,
   "metadata": {},
   "outputs": [],
   "source": [
    "d={\n",
    "    \"a\":1,\n",
    "    \"b\":2\n",
    "}"
   ]
  },
  {
   "cell_type": "code",
   "execution_count": 120,
   "metadata": {},
   "outputs": [
    {
     "data": {
      "text/plain": [
       "3"
      ]
     },
     "execution_count": 120,
     "metadata": {},
     "output_type": "execute_result"
    }
   ],
   "source": [
    "sum(d.values())"
   ]
  },
  {
   "cell_type": "code",
   "execution_count": 131,
   "metadata": {},
   "outputs": [
    {
     "data": {
      "text/plain": [
       "True"
      ]
     },
     "execution_count": 131,
     "metadata": {},
     "output_type": "execute_result"
    }
   ],
   "source": [
    "d.get(\"5\") is None\n"
   ]
  },
  {
   "cell_type": "code",
   "execution_count": null,
   "metadata": {},
   "outputs": [],
   "source": [
    "pro=[0.4,0.2,0.1]"
   ]
  }
 ],
 "metadata": {
  "kernelspec": {
   "display_name": "Python 3",
   "language": "python",
   "name": "python3"
  },
  "language_info": {
   "codemirror_mode": {
    "name": "ipython",
    "version": 3
   },
   "file_extension": ".py",
   "mimetype": "text/x-python",
   "name": "python",
   "nbconvert_exporter": "python",
   "pygments_lexer": "ipython3",
   "version": "3.7.4"
  }
 },
 "nbformat": 4,
 "nbformat_minor": 2
}
